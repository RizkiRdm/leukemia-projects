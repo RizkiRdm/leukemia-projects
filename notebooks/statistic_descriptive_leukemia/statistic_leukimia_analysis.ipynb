{
 "cells": [
  {
   "cell_type": "markdown",
   "metadata": {},
   "source": [
    "# Project Title: Bedah Statistik Deskriptif Penyakit Leukemia"
   ]
  },
  {
   "cell_type": "markdown",
   "metadata": {},
   "source": [
    "## Goal\n",
    "\n",
    "make a full profile from leukemia data. This data contain clinics caractheristic, life style, environment, and leukemia status positve or negative."
   ]
  },
  {
   "cell_type": "markdown",
   "metadata": {},
   "source": [
    "### Import Libraries"
   ]
  },
  {
   "cell_type": "code",
   "execution_count": 2,
   "metadata": {},
   "outputs": [],
   "source": [
    "import pandas as pd\n",
    "import numpy as np\n",
    "import matplotlib.pyplot as plt\n",
    "import seaborn as sns\n",
    "from IPython.display import display, HTML\n",
    "\n",
    "pd.set_option('display.width', 1000)\n",
    "pd.set_option('display.max_columns', None)\n",
    "sns.set_style(\"darkgrid\")"
   ]
  },
  {
   "cell_type": "markdown",
   "metadata": {},
   "source": [
    "### Load data"
   ]
  },
  {
   "cell_type": "code",
   "execution_count": 3,
   "metadata": {},
   "outputs": [],
   "source": [
    "df = pd.read_csv('../../data/biased_leukemia_dataset.csv')"
   ]
  },
  {
   "cell_type": "code",
   "execution_count": 4,
   "metadata": {},
   "outputs": [
    {
     "data": {
      "text/html": [
       "<div>\n",
       "<style scoped>\n",
       "    .dataframe tbody tr th:only-of-type {\n",
       "        vertical-align: middle;\n",
       "    }\n",
       "\n",
       "    .dataframe tbody tr th {\n",
       "        vertical-align: top;\n",
       "    }\n",
       "\n",
       "    .dataframe thead th {\n",
       "        text-align: right;\n",
       "    }\n",
       "</style>\n",
       "<table border=\"1\" class=\"dataframe\">\n",
       "  <thead>\n",
       "    <tr style=\"text-align: right;\">\n",
       "      <th></th>\n",
       "      <th>Patient_ID</th>\n",
       "      <th>Age</th>\n",
       "      <th>Gender</th>\n",
       "      <th>Country</th>\n",
       "      <th>WBC_Count</th>\n",
       "      <th>RBC_Count</th>\n",
       "      <th>Platelet_Count</th>\n",
       "      <th>Hemoglobin_Level</th>\n",
       "      <th>Bone_Marrow_Blasts</th>\n",
       "      <th>Genetic_Mutation</th>\n",
       "      <th>Family_History</th>\n",
       "      <th>Smoking_Status</th>\n",
       "      <th>Alcohol_Consumption</th>\n",
       "      <th>Radiation_Exposure</th>\n",
       "      <th>Infection_History</th>\n",
       "      <th>BMI</th>\n",
       "      <th>Chronic_Illness</th>\n",
       "      <th>Immune_Disorders</th>\n",
       "      <th>Ethnicity</th>\n",
       "      <th>Socioeconomic_Status</th>\n",
       "      <th>Urban_Rural</th>\n",
       "      <th>Leukemia_Status</th>\n",
       "    </tr>\n",
       "  </thead>\n",
       "  <tbody>\n",
       "    <tr>\n",
       "      <th>0</th>\n",
       "      <td>1</td>\n",
       "      <td>52</td>\n",
       "      <td>Male</td>\n",
       "      <td>China</td>\n",
       "      <td>2698</td>\n",
       "      <td>5.36</td>\n",
       "      <td>262493</td>\n",
       "      <td>12.2</td>\n",
       "      <td>72</td>\n",
       "      <td>Yes</td>\n",
       "      <td>No</td>\n",
       "      <td>Yes</td>\n",
       "      <td>No</td>\n",
       "      <td>No</td>\n",
       "      <td>No</td>\n",
       "      <td>24.0</td>\n",
       "      <td>No</td>\n",
       "      <td>No</td>\n",
       "      <td>Ethnic_Group_B</td>\n",
       "      <td>Low</td>\n",
       "      <td>Rural</td>\n",
       "      <td>Negative</td>\n",
       "    </tr>\n",
       "    <tr>\n",
       "      <th>1</th>\n",
       "      <td>2</td>\n",
       "      <td>15</td>\n",
       "      <td>Female</td>\n",
       "      <td>China</td>\n",
       "      <td>4857</td>\n",
       "      <td>4.81</td>\n",
       "      <td>277877</td>\n",
       "      <td>11.9</td>\n",
       "      <td>97</td>\n",
       "      <td>Yes</td>\n",
       "      <td>No</td>\n",
       "      <td>No</td>\n",
       "      <td>No</td>\n",
       "      <td>No</td>\n",
       "      <td>No</td>\n",
       "      <td>28.7</td>\n",
       "      <td>No</td>\n",
       "      <td>No</td>\n",
       "      <td>Ethnic_Group_A</td>\n",
       "      <td>Low</td>\n",
       "      <td>Urban</td>\n",
       "      <td>Positive</td>\n",
       "    </tr>\n",
       "    <tr>\n",
       "      <th>2</th>\n",
       "      <td>3</td>\n",
       "      <td>72</td>\n",
       "      <td>Male</td>\n",
       "      <td>France</td>\n",
       "      <td>9614</td>\n",
       "      <td>5.17</td>\n",
       "      <td>319600</td>\n",
       "      <td>13.4</td>\n",
       "      <td>94</td>\n",
       "      <td>No</td>\n",
       "      <td>Yes</td>\n",
       "      <td>No</td>\n",
       "      <td>Yes</td>\n",
       "      <td>No</td>\n",
       "      <td>No</td>\n",
       "      <td>27.7</td>\n",
       "      <td>No</td>\n",
       "      <td>No</td>\n",
       "      <td>Ethnic_Group_B</td>\n",
       "      <td>Low</td>\n",
       "      <td>Urban</td>\n",
       "      <td>Negative</td>\n",
       "    </tr>\n",
       "    <tr>\n",
       "      <th>3</th>\n",
       "      <td>4</td>\n",
       "      <td>61</td>\n",
       "      <td>Male</td>\n",
       "      <td>Brazil</td>\n",
       "      <td>6278</td>\n",
       "      <td>5.41</td>\n",
       "      <td>215200</td>\n",
       "      <td>11.6</td>\n",
       "      <td>50</td>\n",
       "      <td>No</td>\n",
       "      <td>No</td>\n",
       "      <td>Yes</td>\n",
       "      <td>No</td>\n",
       "      <td>No</td>\n",
       "      <td>No</td>\n",
       "      <td>31.6</td>\n",
       "      <td>No</td>\n",
       "      <td>No</td>\n",
       "      <td>Ethnic_Group_A</td>\n",
       "      <td>Medium</td>\n",
       "      <td>Rural</td>\n",
       "      <td>Negative</td>\n",
       "    </tr>\n",
       "    <tr>\n",
       "      <th>4</th>\n",
       "      <td>5</td>\n",
       "      <td>21</td>\n",
       "      <td>Male</td>\n",
       "      <td>Brazil</td>\n",
       "      <td>8342</td>\n",
       "      <td>4.78</td>\n",
       "      <td>309169</td>\n",
       "      <td>14.3</td>\n",
       "      <td>28</td>\n",
       "      <td>No</td>\n",
       "      <td>No</td>\n",
       "      <td>Yes</td>\n",
       "      <td>No</td>\n",
       "      <td>No</td>\n",
       "      <td>No</td>\n",
       "      <td>22.3</td>\n",
       "      <td>No</td>\n",
       "      <td>No</td>\n",
       "      <td>Ethnic_Group_B</td>\n",
       "      <td>Low</td>\n",
       "      <td>Rural</td>\n",
       "      <td>Negative</td>\n",
       "    </tr>\n",
       "  </tbody>\n",
       "</table>\n",
       "</div>"
      ],
      "text/plain": [
       "   Patient_ID  Age  Gender Country  WBC_Count  RBC_Count  Platelet_Count  Hemoglobin_Level  Bone_Marrow_Blasts Genetic_Mutation Family_History Smoking_Status Alcohol_Consumption Radiation_Exposure Infection_History   BMI Chronic_Illness Immune_Disorders       Ethnicity Socioeconomic_Status Urban_Rural Leukemia_Status\n",
       "0           1   52    Male   China       2698       5.36          262493              12.2                  72              Yes             No            Yes                  No                 No                No  24.0              No               No  Ethnic_Group_B                  Low       Rural        Negative\n",
       "1           2   15  Female   China       4857       4.81          277877              11.9                  97              Yes             No             No                  No                 No                No  28.7              No               No  Ethnic_Group_A                  Low       Urban        Positive\n",
       "2           3   72    Male  France       9614       5.17          319600              13.4                  94               No            Yes             No                 Yes                 No                No  27.7              No               No  Ethnic_Group_B                  Low       Urban        Negative\n",
       "3           4   61    Male  Brazil       6278       5.41          215200              11.6                  50               No             No            Yes                  No                 No                No  31.6              No               No  Ethnic_Group_A               Medium       Rural        Negative\n",
       "4           5   21    Male  Brazil       8342       4.78          309169              14.3                  28               No             No            Yes                  No                 No                No  22.3              No               No  Ethnic_Group_B                  Low       Rural        Negative"
      ]
     },
     "execution_count": 4,
     "metadata": {},
     "output_type": "execute_result"
    }
   ],
   "source": [
    "df.head()"
   ]
  },
  {
   "cell_type": "markdown",
   "metadata": {},
   "source": [
    "### Data Cleaning"
   ]
  },
  {
   "cell_type": "code",
   "execution_count": 5,
   "metadata": {},
   "outputs": [
    {
     "data": {
      "text/plain": [
       "Patient_ID              0\n",
       "Age                     0\n",
       "Gender                  0\n",
       "Country                 0\n",
       "WBC_Count               0\n",
       "RBC_Count               0\n",
       "Platelet_Count          0\n",
       "Hemoglobin_Level        0\n",
       "Bone_Marrow_Blasts      0\n",
       "Genetic_Mutation        0\n",
       "Family_History          0\n",
       "Smoking_Status          0\n",
       "Alcohol_Consumption     0\n",
       "Radiation_Exposure      0\n",
       "Infection_History       0\n",
       "BMI                     0\n",
       "Chronic_Illness         0\n",
       "Immune_Disorders        0\n",
       "Ethnicity               0\n",
       "Socioeconomic_Status    0\n",
       "Urban_Rural             0\n",
       "Leukemia_Status         0\n",
       "dtype: int64"
      ]
     },
     "metadata": {},
     "output_type": "display_data"
    }
   ],
   "source": [
    "# check missing values\n",
    "display(df.isnull().sum())"
   ]
  },
  {
   "cell_type": "markdown",
   "metadata": {},
   "source": [
    "There no missing values"
   ]
  },
  {
   "cell_type": "code",
   "execution_count": 6,
   "metadata": {},
   "outputs": [
    {
     "data": {
      "text/plain": [
       "'Jumlah duplicate data: 0'"
      ]
     },
     "metadata": {},
     "output_type": "display_data"
    }
   ],
   "source": [
    "# check duplicated data\n",
    "display(f\"Jumlah duplicate data: {df.duplicated().sum()}\")"
   ]
  },
  {
   "cell_type": "code",
   "execution_count": 30,
   "metadata": {},
   "outputs": [
    {
     "name": "stdout",
     "output_type": "stream",
     "text": [
      "Count negative value in column 'WBC_Count': 23\n",
      "Nilai negatif dalam kolom 'WBC_Count': \n",
      "7579      -492\n",
      "16642    -1602\n",
      "23335      -96\n",
      "27593     -453\n",
      "28880      -83\n",
      "29429     -242\n",
      "31428    -1415\n",
      "35422     -313\n",
      "65493      -96\n",
      "73116     -959\n",
      "76635     -649\n",
      "78880     -827\n",
      "88541     -306\n",
      "97653      -10\n",
      "100352     -58\n",
      "105489    -605\n",
      "106353    -314\n",
      "116142     -46\n",
      "117864    -672\n",
      "118977   -1484\n",
      "119275     -74\n",
      "123617    -340\n",
      "133167     -22\n",
      "Name: WBC_Count, dtype: int64\n"
     ]
    }
   ],
   "source": [
    "# search negatif values in WBC_Count\n",
    "negative_values = df[df['WBC_Count'] < 0]['WBC_Count']\n",
    "count_negative_values = df[df['WBC_Count'] < 0]['WBC_Count'].count()\n",
    "# Tampilkan nilai negatif jika ada\n",
    "if not negative_values.empty:\n",
    "    print(f\"Count negative value in column 'WBC_Count': {count_negative_values}\")\n",
    "    print(f\"Nilai negatif dalam kolom 'WBC_Count': \\n{negative_values}\")\n",
    "else:\n",
    "    print(\"Tidak ada nilai negatif dalam kolom 'WBC_Count'\")"
   ]
  },
  {
   "cell_type": "markdown",
   "metadata": {},
   "source": [
    "There are 23 data that contain negative value from `WBC_Count`."
   ]
  },
  {
   "cell_type": "markdown",
   "metadata": {},
   "source": [
    "### Descriptive Analysis Statistics"
   ]
  },
  {
   "cell_type": "markdown",
   "metadata": {},
   "source": [
    "#### Descriptive statistic numerical columns"
   ]
  },
  {
   "cell_type": "code",
   "execution_count": 7,
   "metadata": {},
   "outputs": [
    {
     "data": {
      "text/html": [
       "<div>\n",
       "<style scoped>\n",
       "    .dataframe tbody tr th:only-of-type {\n",
       "        vertical-align: middle;\n",
       "    }\n",
       "\n",
       "    .dataframe tbody tr th {\n",
       "        vertical-align: top;\n",
       "    }\n",
       "\n",
       "    .dataframe thead th {\n",
       "        text-align: right;\n",
       "    }\n",
       "</style>\n",
       "<table border=\"1\" class=\"dataframe\">\n",
       "  <thead>\n",
       "    <tr style=\"text-align: right;\">\n",
       "      <th></th>\n",
       "      <th>Patient_ID</th>\n",
       "      <th>Age</th>\n",
       "      <th>WBC_Count</th>\n",
       "      <th>RBC_Count</th>\n",
       "      <th>Platelet_Count</th>\n",
       "      <th>Hemoglobin_Level</th>\n",
       "      <th>Bone_Marrow_Blasts</th>\n",
       "      <th>BMI</th>\n",
       "    </tr>\n",
       "  </thead>\n",
       "  <tbody>\n",
       "    <tr>\n",
       "      <th>count</th>\n",
       "      <td>143194.00000</td>\n",
       "      <td>143194.000000</td>\n",
       "      <td>143194.000000</td>\n",
       "      <td>143194.000000</td>\n",
       "      <td>143194.000000</td>\n",
       "      <td>143194.000000</td>\n",
       "      <td>143194.000000</td>\n",
       "      <td>143194.000000</td>\n",
       "    </tr>\n",
       "    <tr>\n",
       "      <th>mean</th>\n",
       "      <td>71597.50000</td>\n",
       "      <td>44.945200</td>\n",
       "      <td>7001.289879</td>\n",
       "      <td>4.998193</td>\n",
       "      <td>249933.012137</td>\n",
       "      <td>13.498334</td>\n",
       "      <td>49.547984</td>\n",
       "      <td>24.990679</td>\n",
       "    </tr>\n",
       "    <tr>\n",
       "      <th>std</th>\n",
       "      <td>41336.69156</td>\n",
       "      <td>25.737805</td>\n",
       "      <td>2007.444410</td>\n",
       "      <td>0.500298</td>\n",
       "      <td>49842.308243</td>\n",
       "      <td>1.996714</td>\n",
       "      <td>28.837607</td>\n",
       "      <td>4.999786</td>\n",
       "    </tr>\n",
       "    <tr>\n",
       "      <th>min</th>\n",
       "      <td>1.00000</td>\n",
       "      <td>1.000000</td>\n",
       "      <td>-1602.000000</td>\n",
       "      <td>2.940000</td>\n",
       "      <td>46069.000000</td>\n",
       "      <td>4.700000</td>\n",
       "      <td>0.000000</td>\n",
       "      <td>2.800000</td>\n",
       "    </tr>\n",
       "    <tr>\n",
       "      <th>25%</th>\n",
       "      <td>35799.25000</td>\n",
       "      <td>23.000000</td>\n",
       "      <td>5644.250000</td>\n",
       "      <td>4.660000</td>\n",
       "      <td>216372.000000</td>\n",
       "      <td>12.100000</td>\n",
       "      <td>25.000000</td>\n",
       "      <td>21.600000</td>\n",
       "    </tr>\n",
       "    <tr>\n",
       "      <th>50%</th>\n",
       "      <td>71597.50000</td>\n",
       "      <td>45.000000</td>\n",
       "      <td>7007.000000</td>\n",
       "      <td>5.000000</td>\n",
       "      <td>250248.500000</td>\n",
       "      <td>13.500000</td>\n",
       "      <td>50.000000</td>\n",
       "      <td>25.000000</td>\n",
       "    </tr>\n",
       "    <tr>\n",
       "      <th>75%</th>\n",
       "      <td>107395.75000</td>\n",
       "      <td>67.000000</td>\n",
       "      <td>8352.000000</td>\n",
       "      <td>5.340000</td>\n",
       "      <td>283603.500000</td>\n",
       "      <td>14.800000</td>\n",
       "      <td>75.000000</td>\n",
       "      <td>28.300000</td>\n",
       "    </tr>\n",
       "    <tr>\n",
       "      <th>max</th>\n",
       "      <td>143194.00000</td>\n",
       "      <td>89.000000</td>\n",
       "      <td>15586.000000</td>\n",
       "      <td>7.150000</td>\n",
       "      <td>460325.000000</td>\n",
       "      <td>22.200000</td>\n",
       "      <td>99.000000</td>\n",
       "      <td>49.100000</td>\n",
       "    </tr>\n",
       "  </tbody>\n",
       "</table>\n",
       "</div>"
      ],
      "text/plain": [
       "         Patient_ID            Age      WBC_Count      RBC_Count  Platelet_Count  Hemoglobin_Level  Bone_Marrow_Blasts            BMI\n",
       "count  143194.00000  143194.000000  143194.000000  143194.000000   143194.000000     143194.000000       143194.000000  143194.000000\n",
       "mean    71597.50000      44.945200    7001.289879       4.998193   249933.012137         13.498334           49.547984      24.990679\n",
       "std     41336.69156      25.737805    2007.444410       0.500298    49842.308243          1.996714           28.837607       4.999786\n",
       "min         1.00000       1.000000   -1602.000000       2.940000    46069.000000          4.700000            0.000000       2.800000\n",
       "25%     35799.25000      23.000000    5644.250000       4.660000   216372.000000         12.100000           25.000000      21.600000\n",
       "50%     71597.50000      45.000000    7007.000000       5.000000   250248.500000         13.500000           50.000000      25.000000\n",
       "75%    107395.75000      67.000000    8352.000000       5.340000   283603.500000         14.800000           75.000000      28.300000\n",
       "max    143194.00000      89.000000   15586.000000       7.150000   460325.000000         22.200000           99.000000      49.100000"
      ]
     },
     "execution_count": 7,
     "metadata": {},
     "output_type": "execute_result"
    }
   ],
   "source": [
    "# describe data\n",
    "df.describe()"
   ]
  },
  {
   "cell_type": "markdown",
   "metadata": {},
   "source": [
    "Insight:\n",
    "\n",
    "---\n",
    "\n",
    "- No missing value in all column.\n",
    "\n",
    "- `mean` patient age : 49 year old.\n",
    "\n",
    "- `std` (Standard Deviation) patient age: 25.7 year old.\n",
    "\n",
    "- `min` patient age: 1 year old.\n",
    "\n",
    "- `Q1 (25%)` age patient under or equal with **Q1** is :23 year old.\n",
    "\n",
    "- `Q2 (50%) - Median` half patient age under or equal with median value (**Q2**) is: 45 year old.\n",
    "\n",
    "- `Q3 75%)` age patient under or equal **Q3** is : 67 year old.\n",
    "\n",
    "- `max` patient age is: 89 year old\n",
    "\n",
    "So, according to my insight, the average age of patients diagnosed with leukemia is mostly 49 years old, and the median age of people who contract leukemia is 25.7 years old."
   ]
  },
  {
   "cell_type": "markdown",
   "metadata": {},
   "source": [
    "#### Descriptive statistic categorical columns"
   ]
  },
  {
   "cell_type": "code",
   "execution_count": 8,
   "metadata": {},
   "outputs": [],
   "source": [
    "#  Identifikasi kolom kategorikal\n",
    "column_categorical = []\n",
    "for column in df.columns:\n",
    "    dtype = df[column].dtype\n",
    "    if pd.api.types.is_object_dtype(dtype) or isinstance(dtype, pd.CategoricalDtype):\n",
    "        column_categorical.append(column)\n",
    "\n",
    "#  Identifikasi kolom numerical\n",
    "numerical_column = []\n",
    "for column in df.columns:\n",
    "    dtype = df[column].dtype\n",
    "    if pd.api.types.is_numeric_dtype(dtype) or isinstance(dtype, pd.CategoricalDtype):\n",
    "        numerical_column.append(column)\n",
    "\n",
    "# Hitung nilai unik untuk setiap kolom kategorikal\n",
    "frequency = {}\n",
    "percentage = {}\n",
    "for column in column_categorical:\n",
    "    frequency[column] = df[column].value_counts()\n",
    "    percentage[column] = df[column].value_counts(normalize=True) * 100"
   ]
  },
  {
   "cell_type": "code",
   "execution_count": null,
   "metadata": {},
   "outputs": [
    {
     "name": "stdout",
     "output_type": "stream",
     "text": [
      "kolom kategorikal: ['Gender', 'Country', 'Genetic_Mutation', 'Family_History', 'Smoking_Status', 'Alcohol_Consumption', 'Radiation_Exposure', 'Infection_History', 'Chronic_Illness', 'Immune_Disorders', 'Ethnicity', 'Socioeconomic_Status', 'Urban_Rural', 'Leukemia_Status'] \n",
      "\n"
     ]
    },
    {
     "data": {
      "text/html": [
       "Kolom: Gender"
      ],
      "text/plain": [
       "<IPython.core.display.HTML object>"
      ]
     },
     "metadata": {},
     "output_type": "display_data"
    },
    {
     "data": {
      "text/html": [
       "Frequency:<br>Male : 85724<br>Female : 57470<br>"
      ],
      "text/plain": [
       "<IPython.core.display.HTML object>"
      ]
     },
     "metadata": {},
     "output_type": "display_data"
    },
    {
     "data": {
      "text/html": [
       "Percentage:<br>Male : 59.9%<br>Female : 40.1%<br>"
      ],
      "text/plain": [
       "<IPython.core.display.HTML object>"
      ]
     },
     "metadata": {},
     "output_type": "display_data"
    },
    {
     "name": "stdout",
     "output_type": "stream",
     "text": [
      "--------------------------------------------------\n"
     ]
    },
    {
     "data": {
      "text/html": [
       "Kolom: Country"
      ],
      "text/plain": [
       "<IPython.core.display.HTML object>"
      ]
     },
     "metadata": {},
     "output_type": "display_data"
    },
    {
     "data": {
      "text/html": [
       "Frequency:<br>India : 23083<br>USA : 22777<br>Brazil : 15232<br>Russia : 15217<br>China : 15147<br>UK : 3165<br>Mexico : 3160<br>Turkey : 3126<br>South Korea : 3072<br>Canada : 3068<br>Australia : 3063<br>Sweden : 3061<br>South Africa : 3057<br>Netherlands : 3045<br>Japan : 3014<br>Norway : 3006<br>Argentina : 3001<br>France : 3000<br>Germany : 2988<br>Saudi Arabia : 2976<br>Italy : 2973<br>Spain : 2963<br>"
      ],
      "text/plain": [
       "<IPython.core.display.HTML object>"
      ]
     },
     "metadata": {},
     "output_type": "display_data"
    },
    {
     "data": {
      "text/html": [
       "Percentage:<br>India : 16.1%<br>USA : 15.9%<br>Brazil : 10.6%<br>Russia : 10.6%<br>China : 10.6%<br>UK : 2.2%<br>Mexico : 2.2%<br>Turkey : 2.2%<br>South Korea : 2.1%<br>Canada : 2.1%<br>Australia : 2.1%<br>Sweden : 2.1%<br>South Africa : 2.1%<br>Netherlands : 2.1%<br>Japan : 2.1%<br>Norway : 2.1%<br>Argentina : 2.1%<br>France : 2.1%<br>Germany : 2.1%<br>Saudi Arabia : 2.1%<br>Italy : 2.1%<br>Spain : 2.1%<br>"
      ],
      "text/plain": [
       "<IPython.core.display.HTML object>"
      ]
     },
     "metadata": {},
     "output_type": "display_data"
    },
    {
     "name": "stdout",
     "output_type": "stream",
     "text": [
      "--------------------------------------------------\n"
     ]
    },
    {
     "data": {
      "text/html": [
       "Kolom: Genetic_Mutation"
      ],
      "text/plain": [
       "<IPython.core.display.HTML object>"
      ]
     },
     "metadata": {},
     "output_type": "display_data"
    },
    {
     "data": {
      "text/html": [
       "Frequency:<br>No : 114676<br>Yes : 28518<br>"
      ],
      "text/plain": [
       "<IPython.core.display.HTML object>"
      ]
     },
     "metadata": {},
     "output_type": "display_data"
    },
    {
     "data": {
      "text/html": [
       "Percentage:<br>No : 80.1%<br>Yes : 19.9%<br>"
      ],
      "text/plain": [
       "<IPython.core.display.HTML object>"
      ]
     },
     "metadata": {},
     "output_type": "display_data"
    },
    {
     "name": "stdout",
     "output_type": "stream",
     "text": [
      "--------------------------------------------------\n"
     ]
    },
    {
     "data": {
      "text/html": [
       "Kolom: Family_History"
      ],
      "text/plain": [
       "<IPython.core.display.HTML object>"
      ]
     },
     "metadata": {},
     "output_type": "display_data"
    },
    {
     "data": {
      "text/html": [
       "Frequency:<br>No : 100128<br>Yes : 43066<br>"
      ],
      "text/plain": [
       "<IPython.core.display.HTML object>"
      ]
     },
     "metadata": {},
     "output_type": "display_data"
    },
    {
     "data": {
      "text/html": [
       "Percentage:<br>No : 69.9%<br>Yes : 30.1%<br>"
      ],
      "text/plain": [
       "<IPython.core.display.HTML object>"
      ]
     },
     "metadata": {},
     "output_type": "display_data"
    },
    {
     "name": "stdout",
     "output_type": "stream",
     "text": [
      "--------------------------------------------------\n"
     ]
    },
    {
     "data": {
      "text/html": [
       "Kolom: Smoking_Status"
      ],
      "text/plain": [
       "<IPython.core.display.HTML object>"
      ]
     },
     "metadata": {},
     "output_type": "display_data"
    },
    {
     "data": {
      "text/html": [
       "Frequency:<br>No : 85709<br>Yes : 57485<br>"
      ],
      "text/plain": [
       "<IPython.core.display.HTML object>"
      ]
     },
     "metadata": {},
     "output_type": "display_data"
    },
    {
     "data": {
      "text/html": [
       "Percentage:<br>No : 59.9%<br>Yes : 40.1%<br>"
      ],
      "text/plain": [
       "<IPython.core.display.HTML object>"
      ]
     },
     "metadata": {},
     "output_type": "display_data"
    },
    {
     "name": "stdout",
     "output_type": "stream",
     "text": [
      "--------------------------------------------------\n"
     ]
    },
    {
     "data": {
      "text/html": [
       "Kolom: Alcohol_Consumption"
      ],
      "text/plain": [
       "<IPython.core.display.HTML object>"
      ]
     },
     "metadata": {},
     "output_type": "display_data"
    },
    {
     "data": {
      "text/html": [
       "Frequency:<br>No : 100293<br>Yes : 42901<br>"
      ],
      "text/plain": [
       "<IPython.core.display.HTML object>"
      ]
     },
     "metadata": {},
     "output_type": "display_data"
    },
    {
     "data": {
      "text/html": [
       "Percentage:<br>No : 70.0%<br>Yes : 30.0%<br>"
      ],
      "text/plain": [
       "<IPython.core.display.HTML object>"
      ]
     },
     "metadata": {},
     "output_type": "display_data"
    },
    {
     "name": "stdout",
     "output_type": "stream",
     "text": [
      "--------------------------------------------------\n"
     ]
    },
    {
     "data": {
      "text/html": [
       "Kolom: Radiation_Exposure"
      ],
      "text/plain": [
       "<IPython.core.display.HTML object>"
      ]
     },
     "metadata": {},
     "output_type": "display_data"
    },
    {
     "data": {
      "text/html": [
       "Frequency:<br>No : 128766<br>Yes : 14428<br>"
      ],
      "text/plain": [
       "<IPython.core.display.HTML object>"
      ]
     },
     "metadata": {},
     "output_type": "display_data"
    },
    {
     "data": {
      "text/html": [
       "Percentage:<br>No : 89.9%<br>Yes : 10.1%<br>"
      ],
      "text/plain": [
       "<IPython.core.display.HTML object>"
      ]
     },
     "metadata": {},
     "output_type": "display_data"
    },
    {
     "name": "stdout",
     "output_type": "stream",
     "text": [
      "--------------------------------------------------\n"
     ]
    },
    {
     "data": {
      "text/html": [
       "Kolom: Infection_History"
      ],
      "text/plain": [
       "<IPython.core.display.HTML object>"
      ]
     },
     "metadata": {},
     "output_type": "display_data"
    },
    {
     "data": {
      "text/html": [
       "Frequency:<br>No : 107335<br>Yes : 35859<br>"
      ],
      "text/plain": [
       "<IPython.core.display.HTML object>"
      ]
     },
     "metadata": {},
     "output_type": "display_data"
    },
    {
     "data": {
      "text/html": [
       "Percentage:<br>No : 75.0%<br>Yes : 25.0%<br>"
      ],
      "text/plain": [
       "<IPython.core.display.HTML object>"
      ]
     },
     "metadata": {},
     "output_type": "display_data"
    },
    {
     "name": "stdout",
     "output_type": "stream",
     "text": [
      "--------------------------------------------------\n"
     ]
    },
    {
     "data": {
      "text/html": [
       "Kolom: Chronic_Illness"
      ],
      "text/plain": [
       "<IPython.core.display.HTML object>"
      ]
     },
     "metadata": {},
     "output_type": "display_data"
    },
    {
     "data": {
      "text/html": [
       "Frequency:<br>No : 93205<br>Yes : 49989<br>"
      ],
      "text/plain": [
       "<IPython.core.display.HTML object>"
      ]
     },
     "metadata": {},
     "output_type": "display_data"
    },
    {
     "data": {
      "text/html": [
       "Percentage:<br>No : 65.1%<br>Yes : 34.9%<br>"
      ],
      "text/plain": [
       "<IPython.core.display.HTML object>"
      ]
     },
     "metadata": {},
     "output_type": "display_data"
    },
    {
     "name": "stdout",
     "output_type": "stream",
     "text": [
      "--------------------------------------------------\n"
     ]
    },
    {
     "data": {
      "text/html": [
       "Kolom: Immune_Disorders"
      ],
      "text/plain": [
       "<IPython.core.display.HTML object>"
      ]
     },
     "metadata": {},
     "output_type": "display_data"
    },
    {
     "data": {
      "text/html": [
       "Frequency:<br>No : 121921<br>Yes : 21273<br>"
      ],
      "text/plain": [
       "<IPython.core.display.HTML object>"
      ]
     },
     "metadata": {},
     "output_type": "display_data"
    },
    {
     "data": {
      "text/html": [
       "Percentage:<br>No : 85.1%<br>Yes : 14.9%<br>"
      ],
      "text/plain": [
       "<IPython.core.display.HTML object>"
      ]
     },
     "metadata": {},
     "output_type": "display_data"
    },
    {
     "name": "stdout",
     "output_type": "stream",
     "text": [
      "--------------------------------------------------\n"
     ]
    },
    {
     "data": {
      "text/html": [
       "Kolom: Ethnicity"
      ],
      "text/plain": [
       "<IPython.core.display.HTML object>"
      ]
     },
     "metadata": {},
     "output_type": "display_data"
    },
    {
     "data": {
      "text/html": [
       "Frequency:<br>Ethnic_Group_A : 71919<br>Ethnic_Group_B : 42845<br>Ethnic_Group_C : 28430<br>"
      ],
      "text/plain": [
       "<IPython.core.display.HTML object>"
      ]
     },
     "metadata": {},
     "output_type": "display_data"
    },
    {
     "data": {
      "text/html": [
       "Percentage:<br>Ethnic_Group_A : 50.2%<br>Ethnic_Group_B : 29.9%<br>Ethnic_Group_C : 19.9%<br>"
      ],
      "text/plain": [
       "<IPython.core.display.HTML object>"
      ]
     },
     "metadata": {},
     "output_type": "display_data"
    },
    {
     "name": "stdout",
     "output_type": "stream",
     "text": [
      "--------------------------------------------------\n"
     ]
    },
    {
     "data": {
      "text/html": [
       "Kolom: Socioeconomic_Status"
      ],
      "text/plain": [
       "<IPython.core.display.HTML object>"
      ]
     },
     "metadata": {},
     "output_type": "display_data"
    },
    {
     "data": {
      "text/html": [
       "Frequency:<br>Low : 71361<br>Medium : 57567<br>High : 14266<br>"
      ],
      "text/plain": [
       "<IPython.core.display.HTML object>"
      ]
     },
     "metadata": {},
     "output_type": "display_data"
    },
    {
     "data": {
      "text/html": [
       "Percentage:<br>Low : 49.8%<br>Medium : 40.2%<br>High : 10.0%<br>"
      ],
      "text/plain": [
       "<IPython.core.display.HTML object>"
      ]
     },
     "metadata": {},
     "output_type": "display_data"
    },
    {
     "name": "stdout",
     "output_type": "stream",
     "text": [
      "--------------------------------------------------\n"
     ]
    },
    {
     "data": {
      "text/html": [
       "Kolom: Urban_Rural"
      ],
      "text/plain": [
       "<IPython.core.display.HTML object>"
      ]
     },
     "metadata": {},
     "output_type": "display_data"
    },
    {
     "data": {
      "text/html": [
       "Frequency:<br>Urban : 100311<br>Rural : 42883<br>"
      ],
      "text/plain": [
       "<IPython.core.display.HTML object>"
      ]
     },
     "metadata": {},
     "output_type": "display_data"
    },
    {
     "data": {
      "text/html": [
       "Percentage:<br>Urban : 70.1%<br>Rural : 29.9%<br>"
      ],
      "text/plain": [
       "<IPython.core.display.HTML object>"
      ]
     },
     "metadata": {},
     "output_type": "display_data"
    },
    {
     "name": "stdout",
     "output_type": "stream",
     "text": [
      "--------------------------------------------------\n"
     ]
    },
    {
     "data": {
      "text/html": [
       "Kolom: Leukemia_Status"
      ],
      "text/plain": [
       "<IPython.core.display.HTML object>"
      ]
     },
     "metadata": {},
     "output_type": "display_data"
    },
    {
     "data": {
      "text/html": [
       "Frequency:<br>Negative : 121797<br>Positive : 21397<br>"
      ],
      "text/plain": [
       "<IPython.core.display.HTML object>"
      ]
     },
     "metadata": {},
     "output_type": "display_data"
    },
    {
     "data": {
      "text/html": [
       "Percentage:<br>Negative : 85.1%<br>Positive : 14.9%<br>"
      ],
      "text/plain": [
       "<IPython.core.display.HTML object>"
      ]
     },
     "metadata": {},
     "output_type": "display_data"
    },
    {
     "name": "stdout",
     "output_type": "stream",
     "text": [
      "--------------------------------------------------\n"
     ]
    }
   ],
   "source": [
    "# print the result\n",
    "for column in column_categorical:\n",
    "    freq = frequency[column]\n",
    "    pct = percentage[column]\n",
    "    \n",
    "    formatted_freq = \"\"\n",
    "    for index, value in freq.items():\n",
    "        formatted_freq += f\"{index} : {value}<br>\"\n",
    "\n",
    "    formatted_pct = \"\"\n",
    "    for index, value in pct.items():\n",
    "        formatted_pct += f\"{index} : {value:.1f}%<br>\" # Format setiap nilai di sini\n",
    "\n",
    "    display(HTML(f\"Kolom: {column}\"))\n",
    "    display(HTML(f\"Frequency:<br>{formatted_freq}\"))\n",
    "    display(HTML(f\"Percentage:<br>{formatted_pct}\"))\n",
    "    print(\"-\" * 50)"
   ]
  },
  {
   "cell_type": "markdown",
   "metadata": {},
   "source": [
    "Insight\n",
    "\n",
    "---\n",
    "- Gender:  The dataset is skewed towards males, comprising 59.9% of the population, while females make up 40.1%.\n",
    "\n",
    "- Country: The data originates predominantly from India (16.1%) and the USA (15.9%), followed by Brazil, Russia, and China, each contributing approximately 10.6%.  Other countries represent a significantly smaller portion (around 2%).\n",
    "\n",
    "- Genetic Mutation:  A large majority (80.1%) of the individuals in the dataset do not have a recorded genetic mutation, while 19.9% do.\n",
    "\n",
    "- Family History:  Nearly 70% of the individuals have no family history of the condition being studied, while approximately 30% do.\n",
    "\n",
    "- Smoking Status: Similar to gender distribution, the dataset shows a higher proportion of non-smokers (59.9%) compared to smokers (40.1%).\n",
    "\n",
    "- Alcohol Consumption:  70% of the individuals report no alcohol consumption, while 30% do.\n",
    "\n",
    "- Radiation Exposure:  Radiation exposure is relatively low, with only 10.1% reporting exposure, and 89.9% reporting no exposure.\n",
    "\n",
    "- Infection History:  A quarter (25%) of the individuals have a history of infections, while the majority (75%) do not.\n",
    "\n",
    "- Chronic Illness:  34.9% of the individuals have a chronic illness, while 65.1% do not.\n",
    "\n",
    "- Immune Disorders:  14.9% of the individuals have immune disorders, compared to 85.1% who do not.\n",
    "\n",
    "- Ethnicity:  Ethnic Group A makes up the largest portion of the dataset (50.2%), followed by Ethnic Group B (29.9%) and Ethnic Group C (19.9%).\n",
    "\n",
    "- Socioeconomic Status:  The dataset is comprised of 49.8% individuals with low socioeconomic status, 40.2% with medium status, and 10% with high status.\n",
    "\n",
    "- Urban/Rural:  The data is predominantly from urban areas (70.1%), with only 29.9% from rural areas.\n",
    "\n",
    "- Leukemia Status: The vast majority (85.1%) of the individuals tested negative for leukemia, while 14.9% tested positive."
   ]
  },
  {
   "cell_type": "markdown",
   "metadata": {},
   "source": [
    "### Visualizations"
   ]
  },
  {
   "cell_type": "markdown",
   "metadata": {},
   "source": [
    "Make histplot, barchart, boxplot."
   ]
  },
  {
   "cell_type": "markdown",
   "metadata": {},
   "source": [
    "#### Histogram Chart"
   ]
  },
  {
   "cell_type": "markdown",
   "metadata": {},
   "source": [
    "Histogram chart distribution from numerical columns"
   ]
  },
  {
   "cell_type": "code",
   "execution_count": 13,
   "metadata": {},
   "outputs": [
    {
     "data": {
      "image/png": "[encoded data removed]",
      "text/plain": [
       "<Figure size 1500x2000 with 8 Axes>"
      ]
     },
     "metadata": {},
     "output_type": "display_data"
    }
   ],
   "source": [
    "# Menentukan jumlah baris dan kolom plot\n",
    "n_plots = len(numerical_column)\n",
    "n_cols = 2 \n",
    "n_rows = (n_plots + n_cols - 1) // n_cols \n",
    "\n",
    "\n",
    "# Membuat subplot dan flatten axes\n",
    "fig, axes = plt.subplots(nrows=n_rows, ncols=n_cols, figsize=(15, 5 * n_rows))\n",
    "axes = axes.flatten()\n",
    "\n",
    "# Iterasi dan buat histogram\n",
    "for i, column in enumerate(numerical_column):\n",
    "    ax = axes[i]\n",
    "    sns.histplot(df[column], bins=30, edgecolor='black', ax=ax)\n",
    "    ax.set_title(column)\n",
    "    ax.set_xlabel('Nilai')\n",
    "    ax.set_ylabel('Frekuensi')\n",
    "    ax.xaxis.set_major_locator(plt.MaxNLocator(4))  # Sekarang aman\n",
    "\n",
    "# Menyembunyikan subplot kosong\n",
    "for j in range(n_plots, len(axes)):\n",
    "    fig.delaxes(axes[j])\n",
    "\n",
    "plt.tight_layout()\n",
    "plt.show()"
   ]
  },
  {
   "cell_type": "markdown",
   "metadata": {},
   "source": [
    "**Insight**\n",
    "\n",
    "---\n",
    "\n",
    "- Patient_ID:\n",
    "    The distribution is very flat, almost uniform. This is natural, Patient_ID is just a patient sequence number, no special distribution pattern is expected. In essence, these patient IDs are random, with no particular bias or tendency.\n",
    "\n",
    "- "
   ]
  },
  {
   "cell_type": "markdown",
   "metadata": {},
   "source": [
    "\n",
    "#### "
   ]
  }
 ],
 "metadata": {
  "kernelspec": {
   "display_name": "base",
   "language": "python",
   "name": "python3"
  },
  "language_info": {
   "codemirror_mode": {
    "name": "ipython",
    "version": 3
   },
   "file_extension": ".py",
   "mimetype": "text/x-python",
   "name": "python",
   "nbconvert_exporter": "python",
   "pygments_lexer": "ipython3",
   "version": "3.12.7"
  }
 },
 "nbformat": 4,
 "nbformat_minor": 2
}
