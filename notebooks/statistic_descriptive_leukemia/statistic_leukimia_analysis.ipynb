{
 "cells": [
  {
   "cell_type": "markdown",
   "metadata": {},
   "source": [
    "# Project Title: Bedah Statistik Deskriptif Penyakit Leukemia"
   ]
  },
  {
   "cell_type": "markdown",
   "metadata": {},
   "source": [
    "## Goal\n",
    "\n",
    "make a full profile from leukemia data. This data contain clinics caractheristic, life style, environment, and leukemia status positve or negative."
   ]
  },
  {
   "cell_type": "markdown",
   "metadata": {},
   "source": [
    "### Import Libraries"
   ]
  },
  {
   "cell_type": "code",
   "execution_count": null,
   "metadata": {},
   "outputs": [],
   "source": [
    "import pandas as pd\n",
    "import numpy as np\n",
    "import matplotlib.pyplot as plt\n",
    "import seaborn as sns\n",
    "from IPython.display import display, HTML\n",
    "\n",
    "pd.set_option('display.width', 1000)\n",
    "pd.set_option('display.max_columns', None)\n",
    "sns.set_style(\"darkgrid\")"
   ]
  },
  {
   "cell_type": "markdown",
   "metadata": {},
   "source": [
    "### Load data"
   ]
  },
  {
   "cell_type": "code",
   "execution_count": null,
   "metadata": {},
   "outputs": [],
   "source": [
    "df = pd.read_csv('../../data/biased_leukemia_dataset.csv')"
   ]
  },
  {
   "cell_type": "code",
   "execution_count": null,
   "metadata": {},
   "outputs": [],
   "source": [
    "df.head()"
   ]
  },
  {
   "cell_type": "markdown",
   "metadata": {},
   "source": [
    "### Data Cleaning"
   ]
  },
  {
   "cell_type": "code",
   "execution_count": null,
   "metadata": {},
   "outputs": [],
   "source": [
    "# check missing values\n",
    "display(df.isnull().sum())"
   ]
  },
  {
   "cell_type": "markdown",
   "metadata": {},
   "source": [
    "There no missing values"
   ]
  },
  {
   "cell_type": "code",
   "execution_count": null,
   "metadata": {},
   "outputs": [],
   "source": [
    "# check duplicated data\n",
    "display(f\"Jumlah duplicate data: {df.duplicated().sum()}\")"
   ]
  },
  {
   "cell_type": "code",
   "execution_count": null,
   "metadata": {},
   "outputs": [],
   "source": [
    "# search negatif values in WBC_Count\n",
    "negative_values = df[df['WBC_Count'] < 0]['WBC_Count']\n",
    "count_negative_values = df[df['WBC_Count'] < 0]['WBC_Count'].count()\n",
    "\n",
    "if not negative_values.empty:\n",
    "    print(f\"total count 'WBC_Count' column: \\n{count_negative_values}\")\n",
    "    print(f\"Count negative value in column 'WBC_Count': \\n{negative_values}\")\n",
    "else:\n",
    "    print(\"There's no negative value in 'BMI' column\")"
   ]
  },
  {
   "cell_type": "markdown",
   "metadata": {},
   "source": [
    "There are 23 data that contain negative value from `WBC_Count`."
   ]
  },
  {
   "cell_type": "markdown",
   "metadata": {},
   "source": [
    "- Investigate `BMI` column"
   ]
  },
  {
   "cell_type": "code",
   "execution_count": null,
   "metadata": {},
   "outputs": [],
   "source": [
    "negative_values = df[df['BMI'] <= 18.5]['BMI']\n",
    "count_negative_values = len(df[df['BMI'] < 18.5])\n",
    "\n",
    "if not negative_values.empty:\n",
    "    print(f\"total count BMI score under standard: \\n{count_negative_values}\")\n",
    "    print(f\"Count under standard value MBI score: \\n{negative_values}\")\n",
    "else:\n",
    "    print(\"There's now under standard score in 'BMI' column\")"
   ]
  },
  {
   "cell_type": "markdown",
   "metadata": {},
   "source": [
    "There are 13.595 BMI score data, of which 10% contain substandard BMI scores.\n",
    "\n",
    "However, for now, save the data first, and then check further."
   ]
  },
  {
   "cell_type": "markdown",
   "metadata": {},
   "source": [
    "Make a boxplot for `BMI` column."
   ]
  },
  {
   "cell_type": "code",
   "execution_count": 14,
   "metadata": {},
   "outputs": [
    {
     "data": {
      "image/png": "[encoded data removed]",
      "text/plain": [
       "<Figure size 800x600 with 1 Axes>"
      ]
     },
     "metadata": {},
     "output_type": "display_data"
    }
   ],
   "source": [
    "plt.figure(figsize=(8, 6))\n",
    "sns.boxplot(y=df['BMI']) \n",
    "plt.title('Boxplot Nilai BMI Pasien Leukemia', fontsize=14)\n",
    "plt.ylabel('BMI (Body Mass Index)', fontsize=12)\n",
    "plt.show()"
   ]
  },
  {
   "cell_type": "markdown",
   "metadata": {},
   "source": [
    "Insight:\n",
    "\n",
    "- There is a lot of data with `BMI` below the normal standard (Underweight), and some are even extreme low.\n",
    "\n",
    "- The main problem is low `BMI`, not high: Low `BMI` outliers are much more numerous and extreme than high `BMI` outliers. This shows that the problem of extreme values in `BMI` is more dominant towards low, not high.\n",
    "\n",
    "- `BMI` distribution is quite wide, but tends to be symmetrical around the mean: The distribution of the middle 50% of `BMI` data is quite wide, but in general the distribution tends to be symmetrical around the median. The upper whiskers are slightly longer than the lower, but the low outliers are the main problem."
   ]
  },
  {
   "cell_type": "markdown",
   "metadata": {},
   "source": [
    "### Descriptive Analysis Statistics"
   ]
  },
  {
   "cell_type": "markdown",
   "metadata": {},
   "source": [
    "#### Descriptive statistic numerical columns"
   ]
  },
  {
   "cell_type": "code",
   "execution_count": null,
   "metadata": {},
   "outputs": [],
   "source": [
    "# describe data\n",
    "df.describe()"
   ]
  },
  {
   "cell_type": "markdown",
   "metadata": {},
   "source": [
    "Insight:\n",
    "\n",
    "---\n",
    "\n",
    "- No missing value in all column.\n",
    "\n",
    "- `mean` patient age : 49 year old.\n",
    "\n",
    "- `std` (Standard Deviation) patient age: 25.7 year old.\n",
    "\n",
    "- `min` patient age: 1 year old.\n",
    "\n",
    "- `Q1 (25%)` age patient under or equal with **Q1** is :23 year old.\n",
    "\n",
    "- `Q2 (50%) - Median` half patient age under or equal with median value (**Q2**) is: 45 year old.\n",
    "\n",
    "- `Q3 75%)` age patient under or equal **Q3** is : 67 year old.\n",
    "\n",
    "- `max` patient age is: 89 year old\n",
    "\n",
    "So, according to my insight, the average age of patients diagnosed with leukemia is mostly 49 years old, and the median age of people who contract leukemia is 25.7 years old."
   ]
  },
  {
   "cell_type": "markdown",
   "metadata": {},
   "source": [
    "#### Descriptive statistic categorical columns"
   ]
  },
  {
   "cell_type": "code",
   "execution_count": null,
   "metadata": {},
   "outputs": [],
   "source": [
    "#  Identifikasi kolom kategorikal\n",
    "column_categorical = []\n",
    "for column in df.columns:\n",
    "    dtype = df[column].dtype\n",
    "    if pd.api.types.is_object_dtype(dtype) or isinstance(dtype, pd.CategoricalDtype):\n",
    "        column_categorical.append(column)\n",
    "\n",
    "#  Identifikasi kolom numerical\n",
    "numerical_column = []\n",
    "for column in df.columns:\n",
    "    dtype = df[column].dtype\n",
    "    if pd.api.types.is_numeric_dtype(dtype) or isinstance(dtype, pd.CategoricalDtype):\n",
    "        numerical_column.append(column)\n",
    "\n",
    "# Hitung nilai unik untuk setiap kolom kategorikal\n",
    "frequency = {}\n",
    "percentage = {}\n",
    "for column in column_categorical:\n",
    "    frequency[column] = df[column].value_counts()\n",
    "    percentage[column] = df[column].value_counts(normalize=True) * 100"
   ]
  },
  {
   "cell_type": "code",
   "execution_count": null,
   "metadata": {},
   "outputs": [],
   "source": [
    "# print the result\n",
    "for column in column_categorical:\n",
    "    freq = frequency[column]\n",
    "    pct = percentage[column]\n",
    "    \n",
    "    formatted_freq = \"\"\n",
    "    for index, value in freq.items():\n",
    "        formatted_freq += f\"{index} : {value}<br>\"\n",
    "\n",
    "    formatted_pct = \"\"\n",
    "    for index, value in pct.items():\n",
    "        formatted_pct += f\"{index} : {value:.1f}%<br>\" # Format setiap nilai di sini\n",
    "\n",
    "    display(HTML(f\"Kolom: {column}\"))\n",
    "    display(HTML(f\"Frequency:<br>{formatted_freq}\"))\n",
    "    display(HTML(f\"Percentage:<br>{formatted_pct}\"))\n",
    "    print(\"-\" * 50)"
   ]
  },
  {
   "cell_type": "markdown",
   "metadata": {},
   "source": [
    "Insight\n",
    "\n",
    "---\n",
    "- Gender:  The dataset is skewed towards males, comprising 59.9% of the population, while females make up 40.1%.\n",
    "\n",
    "- Country: The data originates predominantly from India (16.1%) and the USA (15.9%), followed by Brazil, Russia, and China, each contributing approximately 10.6%.  Other countries represent a significantly smaller portion (around 2%).\n",
    "\n",
    "- Genetic Mutation:  A large majority (80.1%) of the individuals in the dataset do not have a recorded genetic mutation, while 19.9% do.\n",
    "\n",
    "- Family History:  Nearly 70% of the individuals have no family history of the condition being studied, while approximately 30% do.\n",
    "\n",
    "- Smoking Status: Similar to gender distribution, the dataset shows a higher proportion of non-smokers (59.9%) compared to smokers (40.1%).\n",
    "\n",
    "- Alcohol Consumption:  70% of the individuals report no alcohol consumption, while 30% do.\n",
    "\n",
    "- Radiation Exposure:  Radiation exposure is relatively low, with only 10.1% reporting exposure, and 89.9% reporting no exposure.\n",
    "\n",
    "- Infection History:  A quarter (25%) of the individuals have a history of infections, while the majority (75%) do not.\n",
    "\n",
    "- Chronic Illness:  34.9% of the individuals have a chronic illness, while 65.1% do not.\n",
    "\n",
    "- Immune Disorders:  14.9% of the individuals have immune disorders, compared to 85.1% who do not.\n",
    "\n",
    "- Ethnicity:  Ethnic Group A makes up the largest portion of the dataset (50.2%), followed by Ethnic Group B (29.9%) and Ethnic Group C (19.9%).\n",
    "\n",
    "- Socioeconomic Status:  The dataset is comprised of 49.8% individuals with low socioeconomic status, 40.2% with medium status, and 10% with high status.\n",
    "\n",
    "- Urban/Rural:  The data is predominantly from urban areas (70.1%), with only 29.9% from rural areas.\n",
    "\n",
    "- Leukemia Status: The vast majority (85.1%) of the individuals tested negative for leukemia, while 14.9% tested positive."
   ]
  },
  {
   "cell_type": "markdown",
   "metadata": {},
   "source": [
    "### Visualizations"
   ]
  },
  {
   "cell_type": "markdown",
   "metadata": {},
   "source": [
    "Make histplot, barchart, boxplot."
   ]
  },
  {
   "cell_type": "markdown",
   "metadata": {},
   "source": [
    "#### Histogram Chart"
   ]
  },
  {
   "cell_type": "markdown",
   "metadata": {},
   "source": [
    "Histogram chart distribution from numerical columns"
   ]
  },
  {
   "cell_type": "code",
   "execution_count": null,
   "metadata": {},
   "outputs": [],
   "source": [
    "# Menentukan jumlah baris dan kolom plot\n",
    "n_plots = len(numerical_column)\n",
    "n_cols = 2 \n",
    "n_rows = (n_plots + n_cols - 1) // n_cols \n",
    "\n",
    "\n",
    "# Membuat subplot dan flatten axes\n",
    "fig, axes = plt.subplots(nrows=n_rows, ncols=n_cols, figsize=(15, 5 * n_rows))\n",
    "axes = axes.flatten()\n",
    "\n",
    "# Iterasi dan buat histogram\n",
    "for i, column in enumerate(numerical_column):\n",
    "    ax = axes[i]\n",
    "    sns.histplot(df[column], bins=30, edgecolor='black', ax=ax)\n",
    "    ax.set_title(column)\n",
    "    ax.set_xlabel('Nilai')\n",
    "    ax.set_ylabel('Frekuensi')\n",
    "    ax.xaxis.set_major_locator(plt.MaxNLocator(4))  # Sekarang aman\n",
    "\n",
    "# Menyembunyikan subplot kosong\n",
    "for j in range(n_plots, len(axes)):\n",
    "    fig.delaxes(axes[j])\n",
    "\n",
    "plt.tight_layout()\n",
    "plt.show()"
   ]
  },
  {
   "cell_type": "markdown",
   "metadata": {},
   "source": [
    "**Insight**\n",
    "\n",
    "---\n",
    "\n",
    "- Patient_ID:\n",
    "    The distribution is very flat, almost uniform. This is natural, Patient_ID is just a patient sequence number, no special distribution pattern is expected. In essence, these patient IDs are random, with no particular bias or tendency.\n",
    "\n",
    "- "
   ]
  },
  {
   "cell_type": "markdown",
   "metadata": {},
   "source": [
    "\n",
    "#### "
   ]
  }
 ],
 "metadata": {
  "kernelspec": {
   "display_name": "base",
   "language": "python",
   "name": "python3"
  },
  "language_info": {
   "codemirror_mode": {
    "name": "ipython",
    "version": 3
   },
   "file_extension": ".py",
   "mimetype": "text/x-python",
   "name": "python",
   "nbconvert_exporter": "python",
   "pygments_lexer": "ipython3",
   "version": "3.12.7"
  }
 },
 "nbformat": 4,
 "nbformat_minor": 2
}
