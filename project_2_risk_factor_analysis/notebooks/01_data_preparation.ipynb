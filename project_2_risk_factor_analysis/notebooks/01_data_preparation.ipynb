{
 "cells": [
  {
   "cell_type": "markdown",
   "metadata": {},
   "source": [
    "# Project 2 - Notebook 1: Data Preparation\n",
    "\n",
    "Objective of Notebook:\n",
    "\n",
    "- Prepare data for leukemia risk factor analysis in Project 2.\n",
    "\n",
    "- Load the leukemia dataset that we used in Project 1.\n",
    "\n",
    "- Deciding on a strategy for handling the low BMI anomaly (for the early stages of Project 2, we will leave the anomaly data alone, but it is important to document it).\n",
    "\n",
    "- Select relevant columns for risk factor analysis based on Project 1 insights."
   ]
  },
  {
   "cell_type": "markdown",
   "metadata": {},
   "source": [
    "## Import Libraries"
   ]
  },
  {
   "cell_type": "code",
   "execution_count": 1,
   "metadata": {},
   "outputs": [],
   "source": [
    "import pandas as pd\n",
    "import numpy as np\n",
    "import matplotlib.pyplot as plt\n",
    "import seaborn as sns\n",
    "\n",
    "sns.set_style('darkgrid')\n",
    "pd.set_option('display.width', 1000)\n",
    "pd.set_option('display.max_columns', None)"
   ]
  },
  {
   "cell_type": "markdown",
   "metadata": {},
   "source": [
    "## Load dataset"
   ]
  },
  {
   "cell_type": "code",
   "execution_count": 2,
   "metadata": {},
   "outputs": [
    {
     "name": "stdout",
     "output_type": "stream",
     "text": [
      "<class 'pandas.core.frame.DataFrame'>\n",
      "RangeIndex: 143194 entries, 0 to 143193\n",
      "Data columns (total 22 columns):\n",
      " #   Column                Non-Null Count   Dtype  \n",
      "---  ------                --------------   -----  \n",
      " 0   Patient_ID            143194 non-null  int64  \n",
      " 1   Age                   143194 non-null  int64  \n",
      " 2   Gender                143194 non-null  object \n",
      " 3   Country               143194 non-null  object \n",
      " 4   WBC_Count             143194 non-null  int64  \n",
      " 5   RBC_Count             143194 non-null  float64\n",
      " 6   Platelet_Count        143194 non-null  int64  \n",
      " 7   Hemoglobin_Level      143194 non-null  float64\n",
      " 8   Bone_Marrow_Blasts    143194 non-null  int64  \n",
      " 9   Genetic_Mutation      143194 non-null  object \n",
      " 10  Family_History        143194 non-null  object \n",
      " 11  Smoking_Status        143194 non-null  object \n",
      " 12  Alcohol_Consumption   143194 non-null  object \n",
      " 13  Radiation_Exposure    143194 non-null  object \n",
      " 14  Infection_History     143194 non-null  object \n",
      " 15  BMI                   143194 non-null  float64\n",
      " 16  Chronic_Illness       143194 non-null  object \n",
      " 17  Immune_Disorders      143194 non-null  object \n",
      " 18  Ethnicity             143194 non-null  object \n",
      " 19  Socioeconomic_Status  143194 non-null  object \n",
      " 20  Urban_Rural           143194 non-null  object \n",
      " 21  Leukemia_Status       143194 non-null  object \n",
      "dtypes: float64(3), int64(5), object(14)\n",
      "memory usage: 24.0+ MB\n"
     ]
    }
   ],
   "source": [
    "path = \"../../project_2_risk_factor_analysis/data/clean_leukemia_dataset.csv\"\n",
    "df = pd.read_csv(path)\n",
    "\n",
    "df.info()"
   ]
  },
  {
   "cell_type": "markdown",
   "metadata": {},
   "source": [
    "## Make new Data Frame"
   ]
  },
  {
   "cell_type": "code",
   "execution_count": 7,
   "metadata": {},
   "outputs": [],
   "source": [
    "relevant_col = {\n",
    "    \"Leukemia_Status\" : df['Leukemia_Status'].astype(str),\n",
    "    \"Smoking_Status\" : df['Smoking_Status'],\n",
    "    \"Family_History\" : df['Family_History'],\n",
    "    \"Genetic_Mutation\" : df['Genetic_Mutation'],\n",
    "    \"Ethnicity\" : df['Ethnicity'],\n",
    "    \"Socioeconomic_Status\" : df['Socioeconomic_Status'],\n",
    "    \"WBC_Count\" : df['WBC_Count'],\n",
    "    \"Bone_Marrow_Blasts\" : df['Bone_Marrow_Blasts'],\n",
    "    \"Age\" : df['Age'],\n",
    "    \"RBC_Count\" : df['RBC_Count'],\n",
    "    \"BMI\" : df['BMI']\n",
    "}\n",
    "\n",
    "new_df = pd.DataFrame(relevant_col)\n",
    "\n",
    "new_df.head()\n",
    "new_df.to_csv(r\"/home/rizki/projects/data-science/Leukemia Cancer Risk Prediction/project_2_risk_factor_analysis/data/luekemia_prepared_data.csv\", index=False)"
   ]
  }
 ],
 "metadata": {
  "kernelspec": {
   "display_name": "base",
   "language": "python",
   "name": "python3"
  },
  "language_info": {
   "codemirror_mode": {
    "name": "ipython",
    "version": 3
   },
   "file_extension": ".py",
   "mimetype": "text/x-python",
   "name": "python",
   "nbconvert_exporter": "python",
   "pygments_lexer": "ipython3",
   "version": "3.12.7"
  }
 },
 "nbformat": 4,
 "nbformat_minor": 2
}
