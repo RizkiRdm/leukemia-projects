{
 "cells": [
  {
   "cell_type": "markdown",
   "metadata": {},
   "source": [
    "# Project 2 - Notebook 2: Hypothesis Testing\n",
    "\n",
    "Notebook Objective:\n",
    "\n",
    "- Perform statistical hypothesis testing to analyze the relationship between potential risk factors (categorical and numerical fields) and leukemia status (Leukemia_Status).\n",
    "\n",
    "- Using Chi-Square Test for categorical column vs Leukemia_Status.\n",
    "\n",
    "- Using Independent T-test or Mann-Whitney U-test for numeric column vs Leukemia_Status (depending on normality of numeric data).\n",
    "\n",
    "- Calculated the p-value to determine the statistical significance of the relationship."
   ]
  },
  {
   "cell_type": "markdown",
   "metadata": {},
   "source": [
    "## Import Libraries"
   ]
  },
  {
   "cell_type": "code",
   "execution_count": null,
   "metadata": {},
   "outputs": [],
   "source": [
    "import pandas as pd\n",
    "import numpy as np\n",
    "import matplotlib.pyplot as plt\n",
    "import seaborn as sns\n",
    "import scipy.stats as stats\n",
    "sns.set_style('darkgrid')\n",
    "pd.set_option('display.width', 1000)\n",
    "pd.set_option('display.max_columns', None)  "
   ]
  },
  {
   "cell_type": "markdown",
   "metadata": {},
   "source": [
    "## Load Data"
   ]
  },
  {
   "cell_type": "code",
   "execution_count": 3,
   "metadata": {},
   "outputs": [
    {
     "name": "stdout",
     "output_type": "stream",
     "text": [
      "<class 'pandas.core.frame.DataFrame'>\n",
      "RangeIndex: 143194 entries, 0 to 143193\n",
      "Data columns (total 11 columns):\n",
      " #   Column                Non-Null Count   Dtype  \n",
      "---  ------                --------------   -----  \n",
      " 0   Leukemia_Status       143194 non-null  object \n",
      " 1   Smoking_Status        143194 non-null  object \n",
      " 2   Family_History        143194 non-null  object \n",
      " 3   Genetic_Mutation      143194 non-null  object \n",
      " 4   Ethnicity             143194 non-null  object \n",
      " 5   Socioeconomic_Status  143194 non-null  object \n",
      " 6   WBC_Count             143194 non-null  int64  \n",
      " 7   Bone_Marrow_Blasts    143194 non-null  int64  \n",
      " 8   Age                   143194 non-null  int64  \n",
      " 9   RBC_Count             143194 non-null  float64\n",
      " 10  BMI                   143194 non-null  float64\n",
      "dtypes: float64(2), int64(3), object(6)\n",
      "memory usage: 12.0+ MB\n"
     ]
    }
   ],
   "source": [
    "df = pd.read_csv('../data/luekemia_prepared_data.csv')\n",
    "df.info()"
   ]
  },
  {
   "cell_type": "markdown",
   "metadata": {},
   "source": [
    "## Hypothesis Test for Category vs Leukemia_Status columns (Chi-Square Test)"
   ]
  },
  {
   "cell_type": "code",
   "execution_count": 4,
   "metadata": {},
   "outputs": [
    {
     "name": "stdout",
     "output_type": "stream",
     "text": [
      "Result Chi-square for column: Smoking_Status\n",
      "Chi-square statistic: 0.024217347430319884\n",
      "Degree of Freedom: 1\n",
      "Expected Frequencies table:\n",
      " [[72901.79108762 12807.20891238]\n",
      " [48895.20891238  8589.79108762]]\n",
      "----------------------------------------\n",
      "There is no significant correlation between Smoking_Status and Leukemia Status (p >= 0.05)\n",
      "Result Chi-square for column: Family_History\n",
      "Chi-square statistic: 0.0533665573787544\n",
      "Degree of Freedom: 1\n",
      "Expected Frequencies table:\n",
      " [[85166.20819308 14961.79180692]\n",
      " [36630.79180692  6435.20819308]]\n",
      "----------------------------------------\n",
      "There is no significant correlation between Family_History and Leukemia Status (p >= 0.05)\n",
      "Result Chi-square for column: Genetic_Mutation\n",
      "Chi-square statistic: 0.03549676325173791\n",
      "Degree of Freedom: 1\n",
      "Expected Frequencies table:\n",
      " [[97540.34926044 17135.65073956]\n",
      " [24256.65073956  4261.34926044]]\n",
      "----------------------------------------\n",
      "There is no significant correlation between Genetic_Mutation and Leukemia Status (p >= 0.05)\n",
      "Result Chi-square for column: Ethnicity\n",
      "Chi-square statistic: 0.4858235361638551\n",
      "Degree of Freedom: 2\n",
      "Expected Frequencies table:\n",
      " [[61172.38461807 10746.61538193]\n",
      " [36442.815097    6402.184903  ]\n",
      " [24181.80028493  4248.19971507]]\n",
      "----------------------------------------\n",
      "There is no significant correlation between Ethnicity and Leukemia Status (p >= 0.05)\n",
      "Result Chi-square for column: Socioeconomic_Status\n",
      "Chi-square statistic: 0.9274254785877555\n",
      "Degree of Freedom: 2\n",
      "Expected Frequencies table:\n",
      " [[12134.27938321  2131.72061679]\n",
      " [60697.76468986 10663.23531014]\n",
      " [48964.95592692  8602.04407308]]\n",
      "----------------------------------------\n",
      "There is no significant correlation between Socioeconomic_Status and Leukemia Status (p >= 0.05)\n"
     ]
    }
   ],
   "source": [
    "categorical_col = [\n",
    "    \"Smoking_Status\",\n",
    "    \"Family_History\",\n",
    "    \"Genetic_Mutation\",\n",
    "    \"Ethnicity\",\n",
    "    \"Socioeconomic_Status\"\n",
    "]\n",
    "for col in categorical_col:\n",
    "    contingency_col = pd.crosstab(df[col], df['Leukemia_Status'])\n",
    "    \n",
    "    # chi square test\n",
    "    chi2_stat, p_value, dof, expected_frequencies = stats.chi2_contingency(contingency_col)\n",
    "    \n",
    "    # show the result chi square test\n",
    "    print(f\"Result Chi-square for column: {col}\")\n",
    "    print(f\"Chi-square statistic: {chi2_stat}\")\n",
    "    print(f\"Degree of Freedom: {dof}\")\n",
    "    print(f\"Expected Frequencies table:\\n {expected_frequencies}\")\n",
    "    print(\"----------------------------------------\")\n",
    "    \n",
    "    # interpretation P-value\n",
    "    if p_value < 0.05:\n",
    "        print(f\"There is a significant correlation between {col} and Leukemia Status (p < 0.05)\")\n",
    "    else:\n",
    "        print(f\"There is no significant correlation between {col} and Leukemia Status (p >= 0.05)\")\n",
    "        "
   ]
  },
  {
   "cell_type": "markdown",
   "metadata": {},
   "source": [
    "### Insight Chi-Square Test Results (Category Column vs Leukemia_Status):\n",
    "\n",
    "- `Smoking_Status`: There was no significant association between smoking status and leukemia status (p > 0.05).\n",
    "\n",
    "- `Family_History`: There is no significant association between family history of leukemia and leukemia status (p > 0.05).\n",
    "\n",
    "- `Genetic_Mutation`: There was no significant association between identified genetic mutations and leukemia status (p > 0.05).\n",
    "\n",
    "- `Ethnicity`: There was no significant association between ethnicity and leukemia status (p > 0.05).\n",
    "\n",
    "- `Socioeconomic_Status`: There is no significant association between socioeconomic status and leukemia status (p > 0.05).\n"
   ]
  },
  {
   "cell_type": "markdown",
   "metadata": {},
   "source": [
    "### General conclusion of Chi-Square Test: \n",
    "\n",
    "Based on the **Chi-Square Test**, NONE OF THE CATEGORIES (`Smoking_Status`, `Family_History`, `Genetic_Mutation`, `Ethnicity`, `Socioeconomic_Status`) SHOWED A SIGNIFICANT RELATIONSHIP WITH LEUKEMIA STATUS **(p > 0.05)**."
   ]
  },
  {
   "cell_type": "markdown",
   "metadata": {},
   "source": [
    "## Hypothesis Test for Numeric Columns vs Leukemia_Status (Kolmogorov-Smirnov Test, T-test, Mann-Whitney U)"
   ]
  },
  {
   "cell_type": "code",
   "execution_count": 5,
   "metadata": {},
   "outputs": [
    {
     "name": "stdout",
     "output_type": "stream",
     "text": [
      "----------------------------------------\n",
      "Normality test result with Kolmogorov-Smirnov for column: WBC_Count\n",
      "Positive group - Kolmogorov-Smirnov statistics: 0.999906528952657\n",
      "Positive group - P-value: 0.0\n",
      "Negative group - Kolmogorov-Smirnov statistics: 0.9998275819601468\n",
      "Negative group - P-value: 0.0\n",
      "---------------------------------------- \n",
      "\n",
      "Result: T-test Independent \n",
      " for column: WBC_Count\n",
      "Test statistic: -0.247326946285331\n",
      "P-value: 0.8046555609204009\n",
      "---------------------------------------- \n",
      "\n",
      "======================================\n",
      "There is no significant correlation between WBC_Count and Leukemia Status (p >= 0.05)\n",
      "====================================== \n",
      "\n",
      "----------------------------------------\n",
      "Normality test result with Kolmogorov-Smirnov for column: Bone_Marrow_Blasts\n",
      "Positive group - Kolmogorov-Smirnov statistics: 0.9685991602475679\n",
      "Positive group - P-value: 0.0\n",
      "Negative group - Kolmogorov-Smirnov statistics: 0.9690106198793201\n",
      "Negative group - P-value: 0.0\n",
      "---------------------------------------- \n",
      "\n",
      "Result: T-test Independent \n",
      " for column: Bone_Marrow_Blasts\n",
      "Test statistic: 1.7072474140482072\n",
      "P-value: 0.08777824352052616\n",
      "---------------------------------------- \n",
      "\n",
      "======================================\n",
      "There is no significant correlation between Bone_Marrow_Blasts and Leukemia Status (p >= 0.05)\n",
      "====================================== \n",
      "\n",
      "----------------------------------------\n",
      "Normality test result with Kolmogorov-Smirnov for column: Age\n",
      "Positive group - Kolmogorov-Smirnov statistics: 0.9760301085113432\n",
      "Positive group - P-value: 0.0\n",
      "Negative group - Kolmogorov-Smirnov statistics: 0.9760879698961513\n",
      "Negative group - P-value: 0.0\n",
      "---------------------------------------- \n",
      "\n",
      "Result: T-test Independent \n",
      " for column: Age\n",
      "Test statistic: 1.2080428601465414\n",
      "P-value: 0.2270327717679859\n",
      "---------------------------------------- \n",
      "\n",
      "======================================\n",
      "There is no significant correlation between Age and Leukemia Status (p >= 0.05)\n",
      "====================================== \n",
      "\n",
      "----------------------------------------\n",
      "Normality test result with Kolmogorov-Smirnov for column: RBC_Count\n",
      "Positive group - Kolmogorov-Smirnov statistics: 0.9992559968362892\n",
      "Positive group - P-value: 0.0\n",
      "Negative group - Kolmogorov-Smirnov statistics: 0.9992168412526101\n",
      "Negative group - P-value: 0.0\n",
      "---------------------------------------- \n",
      "\n",
      "Result: T-test Independent \n",
      " for column: RBC_Count\n",
      "Test statistic: -0.05876578078308106\n",
      "P-value: 0.9531387463197228\n",
      "---------------------------------------- \n",
      "\n",
      "======================================\n",
      "There is no significant correlation between RBC_Count and Leukemia Status (p >= 0.05)\n",
      "====================================== \n",
      "\n",
      "----------------------------------------\n",
      "Normality test result with Kolmogorov-Smirnov for column: BMI\n",
      "Positive group - Kolmogorov-Smirnov statistics: 0.9999995208167234\n",
      "Positive group - P-value: 0.0\n",
      "Negative group - Kolmogorov-Smirnov statistics: 0.9999916899728867\n",
      "Negative group - P-value: 0.0\n",
      "---------------------------------------- \n",
      "\n",
      "Result: T-test Independent \n",
      " for column: BMI\n",
      "Test statistic: 0.35038996639077485\n",
      "P-value: 0.7260465707805925\n",
      "---------------------------------------- \n",
      "\n",
      "======================================\n",
      "There is no significant correlation between BMI and Leukemia Status (p >= 0.05)\n",
      "====================================== \n",
      "\n"
     ]
    }
   ],
   "source": [
    "numerical_col = [\n",
    "    \"WBC_Count\",\n",
    "    \"Bone_Marrow_Blasts\",\n",
    "    \"Age\",\n",
    "    \"RBC_Count\",\n",
    "    \"BMI\" \n",
    "]\n",
    "\n",
    "for col in numerical_col:\n",
    "    positive_col = df[df['Leukemia_Status'] == 'Positive'][col]\n",
    "    negative_col = df[df['Leukemia_Status'] == 'Negative'][col]\n",
    "    \n",
    "    # shapiro normalitest numerical column\n",
    "    ks_stat_pos, ks_p_value_pos = stats.kstest(positive_col, 'norm')\n",
    "    ks_stat_neg, ks_p_value_neg = stats.kstest(negative_col, 'norm')\n",
    "    \n",
    "    print(\"----------------------------------------\")\n",
    "    print(f\"Normality test result with Kolmogorov-Smirnov for column: {col}\")\n",
    "    print(f\"Positive group - Kolmogorov-Smirnov statistics: {ks_stat_pos}\")\n",
    "    print(f\"Positive group - P-value: {ks_p_value_pos}\")\n",
    "    print(f\"Negative group - Kolmogorov-Smirnov statistics: {ks_stat_neg}\")\n",
    "    print(f\"Negative group - P-value: {ks_p_value_neg}\")\n",
    "    \n",
    "    print(\"---------------------------------------- \\n\")\n",
    "    # specify the right statistical test base on normaly test results \n",
    "    if ks_stat_pos > 0.05 and ks_stat_neg > 0.05:\n",
    "        # T-test calculation for if data normal\n",
    "        test_stat, p_value = stats.ttest_ind(positive_col, negative_col)\n",
    "        test_name = \"T-test Independent\"\n",
    "    else:\n",
    "        # Man calculation for if data normal\n",
    "        test_stat, p_value = stats.mannwhitneyu(positive_col, negative_col)\n",
    "        test_name = \"T-test Independent\"\n",
    "    \n",
    "    # print result\n",
    "    print(f\"Result: {test_name} \\n for column: {col}\")\n",
    "    print(f\"Test statistic: {test_stat}\")\n",
    "    print(f\"P-value: {p_value}\")\n",
    "    print(\"---------------------------------------- \\n\")\n",
    "    \n",
    "    print(\"======================================\")\n",
    "    # interpretation P-value\n",
    "    if p_value < 0.05:\n",
    "        print(f\"There is a significant correlation between {col} and Leukemia Status (p < 0.05)\")\n",
    "    else:\n",
    "        print(f\"There is no significant correlation between {col} and Leukemia Status (p >= 0.05)\")    \n",
    "    print(\"====================================== \\n\")"
   ]
  },
  {
   "cell_type": "markdown",
   "metadata": {},
   "source": [
    "### Insight independent T-test Results (Numeric Column vs Leukemia_Status):\n",
    "\n",
    "   -  `WBC_Count`: There was no significant difference in mean white blood cell count between leukemia positive and negative groups (p > 0.05).\n",
    "   \n",
    "   -  `Bone_Marrow_Blasts`: There was no significant difference in mean bone marrow blast percentage between leukemia positive and negative groups (p > 0.05).\n",
    "   \n",
    "   -  `Age`: There was no significant difference in mean age between the leukemia positive and negative groups (p > 0.05).\n",
    "   \n",
    "   -  `RBC_Count`: There was no significant difference in mean red blood cell count between the leukemia positive and negative groups (p > 0.05).\n",
    "   \n",
    "   -  `BMI`: There was no significant difference in mean BMI between the leukemia positive and negative groups (p > 0.05)."
   ]
  },
  {
   "cell_type": "markdown",
   "metadata": {},
   "source": [
    "### General conclusion of Independent T-test: \n",
    "\n",
    "based on the Independent T-test, none of the numeric columns (`WBC_Count`, `Bone_Marrow_Blasts`, `Age`, `RBC_Count`, `BMI`) showed a significant average of differences between the POSITIVE and NEGATIVE LEUKEMIA groups **(p > 0.05)**."
   ]
  }
 ],
 "metadata": {
  "kernelspec": {
   "display_name": "base",
   "language": "python",
   "name": "python3"
  },
  "language_info": {
   "codemirror_mode": {
    "name": "ipython",
    "version": 3
   },
   "file_extension": ".py",
   "mimetype": "text/x-python",
   "name": "python",
   "nbconvert_exporter": "python",
   "pygments_lexer": "ipython3",
   "version": "3.12.7"
  }
 },
 "nbformat": 4,
 "nbformat_minor": 2
}
