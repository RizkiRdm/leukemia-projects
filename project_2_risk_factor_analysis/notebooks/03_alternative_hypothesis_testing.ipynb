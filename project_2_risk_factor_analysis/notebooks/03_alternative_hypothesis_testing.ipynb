{
 "cells": [
  {
   "cell_type": "markdown",
   "metadata": {},
   "source": [
    "# Project 2 - Notebook 3: Alternative Hypothesis Testing\n",
    "\n",
    "The goal Notebook:\n",
    "\n",
    "- Retest the hypothesis of differences in numerical column distributions between the Leukemia Positive and Negative groups using the Mann-Whitney U Test.\n",
    "\n",
    "- Compares the Mann-Whitney U Test results with the Independent T-test results from the previous notebook.\n",
    "\n",
    "- Determined if there was a difference in statistical significance conclusions between the two types of hypothesis tests.\n",
    "\n",
    "- Documented the limitations and trade-offs of using the Independent T-test and Mann-Whitney U Test on this dataset."
   ]
  },
  {
   "cell_type": "markdown",
   "metadata": {},
   "source": [
    "## Import Libraries"
   ]
  },
  {
   "cell_type": "code",
   "execution_count": null,
   "metadata": {},
   "outputs": [],
   "source": [
    "import pandas as pd\n",
    "import numpy as np\n",
    "import scipy.stats as stats"
   ]
  },
  {
   "cell_type": "markdown",
   "metadata": {},
   "source": [
    "## Load Data"
   ]
  },
  {
   "cell_type": "code",
   "execution_count": null,
   "metadata": {},
   "outputs": [],
   "source": [
    "df = pd.read_csv('../data/luekemia_prepared_data.csv')\n",
    "df.info()"
   ]
  },
  {
   "cell_type": "markdown",
   "metadata": {},
   "source": [
    "## Hypothesis Test for Numeric Columns vs Leukemia_Status (Man Whitney U)"
   ]
  },
  {
   "cell_type": "code",
   "execution_count": null,
   "metadata": {},
   "outputs": [
    {
     "name": "stdout",
     "output_type": "stream",
     "text": [
      "======================================\n",
      "Normality test result with Man Whitney U for column: WBC_Count\n",
      "--------------------------------------\n",
      "Test statistic: 1301945623.0\n",
      "P-value: 0.8436879858591144\n",
      "--------------------------------------\n",
      "======================================\n",
      "Interpretation P-value: P-value >= 0.05 (Not significant)\n",
      "----------------------------------------\n",
      "There is a statistically significant difference in the distribution of the:  WBC_Count. Between Leukemia Positive and Negative group\n",
      "T-test Independent - P-value >= 0.05 (Not significant)\n",
      "====================================== \n",
      "\n",
      "======================================\n",
      "Normality test result with Man Whitney U for column: Bone_Marrow_Blasts\n",
      "--------------------------------------\n",
      "Test statistic: 1312571595.0\n",
      "P-value: 0.08756761144846777\n",
      "--------------------------------------\n",
      "======================================\n",
      "Interpretation P-value: P-value < 0.10 (Marginal Significant - Careful Interpretation is Required)\n",
      "----------------------------------------\n",
      "There is a statistically significant difference in the distribution of the:  Bone_Marrow_Blasts. Between Leukemia Positive and Negative group\n",
      "T-test Independent - P-value < 0.10 (Marginal Significant - Careful Interpretation is Required)\n",
      "====================================== \n",
      "\n",
      "======================================\n",
      "Normality test result with Man Whitney U for column: Age\n",
      "--------------------------------------\n",
      "Test statistic: 1309772640.5\n",
      "P-value: 0.2276444083050616\n",
      "--------------------------------------\n",
      "======================================\n",
      "Interpretation P-value: P-value >= 0.05 (Not significant)\n",
      "----------------------------------------\n",
      "There is a statistically significant difference in the distribution of the:  Age. Between Leukemia Positive and Negative group\n",
      "T-test Independent - P-value >= 0.05 (Not significant)\n",
      "====================================== \n",
      "\n",
      "======================================\n",
      "Normality test result with Man Whitney U for column: RBC_Count\n",
      "--------------------------------------\n",
      "Test statistic: 1303556447.5\n",
      "P-value: 0.9269535817664148\n",
      "--------------------------------------\n",
      "======================================\n",
      "Interpretation P-value: P-value >= 0.05 (Not significant)\n",
      "----------------------------------------\n",
      "There is a statistically significant difference in the distribution of the:  RBC_Count. Between Leukemia Positive and Negative group\n",
      "T-test Independent - P-value >= 0.05 (Not significant)\n",
      "====================================== \n",
      "\n",
      "======================================\n",
      "Normality test result with Man Whitney U for column: BMI\n",
      "--------------------------------------\n",
      "Test statistic: 1302903023.5\n",
      "P-value: 0.9796589642272909\n",
      "--------------------------------------\n",
      "======================================\n",
      "Interpretation P-value: P-value >= 0.05 (Not significant)\n",
      "----------------------------------------\n",
      "There is a statistically significant difference in the distribution of the:  BMI. Between Leukemia Positive and Negative group\n",
      "T-test Independent - P-value >= 0.05 (Not significant)\n",
      "====================================== \n",
      "\n"
     ]
    }
   ],
   "source": [
    "numerical_col = [\n",
    "    \"WBC_Count\",\n",
    "    \"Bone_Marrow_Blasts\",\n",
    "    \"Age\",\n",
    "    \"RBC_Count\",\n",
    "    \"BMI\" \n",
    "]\n",
    "\n",
    "for col in numerical_col:\n",
    "    positive_col = df[df['Leukemia_Status'] == 'Positive'][col]\n",
    "    negative_col = df[df['Leukemia_Status'] == 'Negative'][col]\n",
    "    \n",
    "    # Man calculation for if data normal\n",
    "    man_test_stats, p_value = stats.mannwhitneyu(positive_col, negative_col)\n",
    "    test_name = \"Man Whitney U\"    \n",
    "    \n",
    "    print(\"======================================\")\n",
    "    print(f\"Normality test result with Man Whitney U for column: {col}\")\n",
    "    print(\"--------------------------------------\")\n",
    "    print(f\"Test statistic: {man_test_stats}\")\n",
    "    print(f\"P-value: {p_value}\")\n",
    "    print(\"--------------------------------------\")\n",
    "    print(\"======================================\")\n",
    "    \n",
    "    if p_value < 0.001:\n",
    "        interpre_p_value = \"P-value < 0.001 (Very Significant)\"\n",
    "    elif p_value < 0.01:\n",
    "        interpre_p_value = \"P-value < 0.01 (Very Significant)\"\n",
    "    elif p_value < 0.05:\n",
    "        interpre_p_value = \"P-value < 0.05 (Significant)\"\n",
    "    elif p_value < 0.10:\n",
    "        interpre_p_value = \"P-value < 0.10 (Marginal Significant - Careful Interpretation is Required)\"\n",
    "    else:\n",
    "        interpre_p_value = \"P-value >= 0.05 (Not significant)\"\n",
    "        \n",
    "    print(f\"Interpretation P-value: {interpre_p_value}\")\n",
    "    print(\"----------------------------------------\")\n",
    "        \n",
    "    if man_test_stats > 0.05:\n",
    "        # T-test calculation for if data normal\n",
    "        man_test_stats, p_value = stats.ttest_ind(positive_col, negative_col)\n",
    "        test_name = \"T-test Independent\"\n",
    "        \n",
    "    # interpretation P-value\n",
    "    if p_value < 0.05:\n",
    "        print(f\"There is a statistically significant difference in the distribution of the:  {col}. Between Leukemia Positive and Negative group\")\n",
    "        print(f\"{test_name} - {interpre_p_value}\")\n",
    "    else:\n",
    "        print(f\"There is a statistically significant difference in the distribution of the:  {col}. Between Leukemia Positive and Negative group\")    \n",
    "        print(f\"{test_name} - {interpre_p_value}\")\n",
    "    print(\"====================================== \\n\")"
   ]
  },
  {
   "cell_type": "markdown",
   "metadata": {},
   "source": [
    "### Mann-Whitney U & T-test Results (Numeric Column vs Leukemia_Status):\n",
    "\n",
    "- `WBC_Count`:\n",
    "   - Mann-Whitney U: There was no significant difference in white blood cell count distribution between leukemia positive and negative groups (p >= 0.05).\n",
    "   \n",
    "   - T-test: There was no significant difference in mean white blood cell count between leukemia positive and negative groups (p >= 0.05).\n",
    "   \n",
    "   - Combined Insights: Neither the Mann-Whitney U-test (non-parametric) nor the T-test (parametric) found any SIGNIFICANT DIFFERENCE in the distribution or mean WBC_Count between the leukemia positive and negative groups.\n",
    "\n",
    "- `Bone_Marrow_Blasts`:\n",
    "   - Mann-Whitney U: There was an indication of a difference in the distribution of bone marrow blast percentage between the leukemia positive and negative groups, but it was MARGINALLY SIGNIFICANT (p < 0.10, p = 0.087). Careful interpretation is required.\n",
    "  \n",
    "   - T-test: There is an indication of a difference in mean bone marrow blast percentage between leukemia positive and negative groups, but SIGNIFICANT MARGINAL (p < 0.10, p = 0.087). Careful interpretation is required.\n",
    "  \n",
    "   - Combined Insights: Both the Mann-Whitney U-test and T-test showed INDICATIONS of SIGNIFICANT MARGINAL DIFFERENCE in the distribution or mean Bone_Marrow_Blasts between the leukemia positive and negative groups. CAUTIONARY INTERPRETATION NEEDED as significance is only marginal (p < 0.10), not below the more stringent 0.05 significance threshold.\n",
    "\n",
    "- `Age`:\n",
    "   - Mann-Whitney U: There was no significant difference in age distribution between the leukemia positive and negative groups (p >= 0.05).\n",
    "   - T-test: There was no significant difference in mean age between the leukemia positive and negative groups (p >= 0.05).\n",
    "   - Combined Insights: Both the Mann-Whitney U-test and T-test found NO SIGNIFICANT DIFFERENCE in the distribution or mean age between the leukemia positive and negative groups.\n",
    "\n",
    "- `RBC_Count`:\n",
    "   - Mann-Whitney U: There was no significant difference in red blood cell count distribution between the leukemia positive and negative groups (p >= 0.05).\n",
    "   - T-test: There was no significant difference in mean red blood cell count between leukemia positive and negative groups (p >= 0.05).\n",
    "   - Combined Insights: Neither the Mann-Whitney U test nor the T-test FOUND SIGNIFICANT DIFFERENCE in the distribution or mean RBC_Count between the leukemia positive and negative groups.\n",
    "\n",
    "- `BMI`:\n",
    "   - Mann-Whitney U: There was no significant difference in BMI distribution between the leukemia positive and negative groups (p >= 0.05).\n",
    "   - T-test: There was no significant difference in mean BMI between the leukemia positive and negative groups (p >= 0.05).\n",
    "   - Combined Insights: Neither the Mann-Whitney U test nor the T-test FOUND SIGNIFICANT DIFFERENCE in the distribution or mean BMI between the leukemia positive and negative groups."
   ]
  },
  {
   "cell_type": "markdown",
   "metadata": {},
   "source": [
    "### General conclusion: \n",
    "\n",
    "Based on the results of the updated HIPOTHESIS TEST (Mann-Whitney U-test and T-test), IN GENERAL, THERE WAS NO STATISTICALLY SIGNIFICANT DISTRIBUTION DIFFERENCE FOR THE NUMERICAL COLUMNS (WBC_Count, Age, RBC_Count, BMI) BETWEEN THE POSITIVE AND NEGATIVE LEUKEMIA GROUPS (p >= 0.05).\n",
    "\n",
    "Except for the Bone_Marrow_Blasts column, there was an indication of a MARGINALLY SIGNIFICANT DISTRIBUTION DIFFERENCE (p < 0.10) BETWEEN THE POSITIVE AND NEGATIVE LEUKEMIA GROUPS, BUT NEEDS CAREFUL INTERPRETATION BECAUSE THE SIGNIFICANCE WAS ONLY MARGINAL."
   ]
  }
 ],
 "metadata": {
  "kernelspec": {
   "display_name": "base",
   "language": "python",
   "name": "python3"
  },
  "language_info": {
   "codemirror_mode": {
    "name": "ipython",
    "version": 3
   },
   "file_extension": ".py",
   "mimetype": "text/x-python",
   "name": "python",
   "nbconvert_exporter": "python",
   "pygments_lexer": "ipython3",
   "version": "3.12.7"
  }
 },
 "nbformat": 4,
 "nbformat_minor": 2
}
